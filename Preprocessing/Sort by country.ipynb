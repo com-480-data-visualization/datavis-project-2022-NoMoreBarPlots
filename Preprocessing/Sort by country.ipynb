{
 "cells": [
  {
   "cell_type": "code",
   "execution_count": 1,
   "id": "85104f98",
   "metadata": {},
   "outputs": [],
   "source": [
    "import numpy as np\n",
    "import pandas as pd\n",
    "\n",
    "DATA_PATH = 'Converted/'"
   ]
  },
  {
   "cell_type": "code",
   "execution_count": 2,
   "id": "fa571866",
   "metadata": {},
   "outputs": [],
   "source": [
    "list_energy_coal = ['Blast Furnace Gas','Brown Coal Briquettes','Coal Tar','Coke Oven Coke','Coke Oven Gas','Gas coke','Other coal products','Other recovered gases','Patent fuel']\n",
    "\n",
    "df = pd.DataFrame()\n",
    "for file in list_energy_coal:\n",
    "    df1 = pd.read_csv(DATA_PATH + file + ' converted.csv')\n",
    "    df = df.append(df1)\n",
    "\n",
    "    \n",
    "coal = df.groupby(['Country or Area', 'Year','Transaction']).sum()\n",
    "coal.loc[:,'Commodity'] = 'Coal products'\n",
    "coal.to_csv('Converted/Coal products converted.csv')\n",
    "del coal"
   ]
  },
  {
   "cell_type": "code",
   "execution_count": 3,
   "id": "e9bc84a1",
   "metadata": {},
   "outputs": [],
   "source": [
    "list_energy_oil = ['Aviation gasoline',\n",
    "'Bitumen',\n",
    "'Ethane',\n",
    "'Fuel Oil',\n",
    "'Gas Oil and Diesel Oil',\n",
    "'Gasoline-type jet fuel',\n",
    "'Kerosene-type Jet Fuel',\n",
    "'Liquified petroleum gas',\n",
    "'Lubricants',\n",
    "'Motor Gasoline',\n",
    "'Naptha',\n",
    "'Other kerosene',\n",
    "'Other oil products n.e.c. ',\n",
    "'Paraffin waxes',\n",
    "'Petroleum Coke',\n",
    "'Refinery gas',\n",
    "'Whitespirit and special boiling point industrial spirits']\n",
    "\n",
    "df = pd.DataFrame()\n",
    "for file in list_energy_oil:\n",
    "    df1 = pd.read_csv(DATA_PATH + file + ' converted.csv')\n",
    "    df = df.append(df1)\n",
    "\n",
    "    \n",
    "oil = df.groupby(['Country or Area', 'Year','Transaction']).sum()\n",
    "oil.loc[:,'Commodity'] = 'Oil products'\n",
    "oil.to_csv('Converted/Oil products converted.csv')\n",
    "del oil"
   ]
  },
  {
   "cell_type": "code",
   "execution_count": 4,
   "id": "156572f1",
   "metadata": {},
   "outputs": [],
   "source": [
    "list_energy_sbio = [\n",
    "'Animal waste',\n",
    "'Bagasse',\n",
    "'Black Liquor',\n",
    "'Charcoal',\n",
    "'Fuelwood',\n",
    "'Other Vegetal Material and Residues']\n",
    "\n",
    "df = pd.DataFrame()\n",
    "for file in list_energy_sbio:\n",
    "    df1 = pd.read_csv(DATA_PATH + file + ' converted.csv')\n",
    "    df = df.append(df1)\n",
    "\n",
    "    \n",
    "sbio = df.groupby(['Country or Area', 'Year','Transaction']).sum()\n",
    "sbio.loc[:,'Commodity'] = 'Solid biofuels'\n",
    "sbio.to_csv('Converted/Solid biofuels converted.csv')\n",
    "del sbio"
   ]
  },
  {
   "cell_type": "code",
   "execution_count": 5,
   "id": "4a466e03",
   "metadata": {},
   "outputs": [],
   "source": [
    "list_energy_lbio = [\n",
    "'Bio jet kerosene',\n",
    "'Biodiesel',\n",
    "'Biogasoline',\n",
    "'Other liquid biofuels']\n",
    "\n",
    "df = pd.DataFrame()\n",
    "for file in list_energy_lbio:\n",
    "    df1 = pd.read_csv(DATA_PATH + file + ' converted.csv')\n",
    "    df = df.append(df1)\n",
    "\n",
    "    \n",
    "lbio = df.groupby(['Country or Area', 'Year','Transaction']).sum()\n",
    "lbio.loc[:,'Commodity'] = 'Liquid biofuels'\n",
    "lbio.to_csv('Converted/Liquid biofuels converted.csv')\n",
    "del lbio"
   ]
  },
  {
   "cell_type": "code",
   "execution_count": 6,
   "id": "70a634d3",
   "metadata": {},
   "outputs": [],
   "source": [
    "cols = ['Country or Area', 'Commodity', 'Transaction', 'Year', 'Quantity Footnotes', 'Conversion_in_kWh']\n",
    "FILE_NAME = 'Total electricity 1'\n",
    "df1 = pd.read_csv(DATA_PATH + FILE_NAME + ' converted.csv', usecols=cols)\n",
    "\n",
    "FILE_NAME = 'Total electricity 2'\n",
    "df2 = pd.read_csv(DATA_PATH + FILE_NAME + ' converted.csv', usecols=cols)\n",
    "\n",
    "df = df1.append(df2)\n",
    "\n",
    "#create unique list of names\n",
    "UniqueCountries = df['Country or Area'].unique()\n",
    "\n",
    "#create a data frame dictionary to store your data frames\n",
    "Data_dict = {elem : pd.DataFrame() for elem in UniqueCountries}\n",
    "\n",
    "for key in Data_dict.keys():\n",
    "    Data_dict[key] = df[:][df['Country or Area'] == key]\n",
    "    \n",
    "del df1, df2"
   ]
  },
  {
   "cell_type": "code",
   "execution_count": 7,
   "id": "d93f266d",
   "metadata": {},
   "outputs": [],
   "source": [
    "def append_new_energy (file_energy, dict_to_append):\n",
    "    df = pd.read_csv(DATA_PATH + file_energy + ' converted.csv', usecols=cols)\n",
    "\n",
    "    #create unique list of names\n",
    "    UniqueCountries = df['Country or Area'].unique()\n",
    "\n",
    "    #create a data frame dictionary to store your data frames\n",
    "    DataFrameDict_tmp = {elem : pd.DataFrame() for elem in UniqueCountries}\n",
    "\n",
    "    for key in DataFrameDict_tmp.keys():\n",
    "        if key == 'Antarctic Fisheries':\n",
    "            continue\n",
    "        dict_to_append[key] = dict_to_append[key].append(df[:][df['Country or Area'] == key])\n",
    "        \n",
    "    return dict_to_append"
   ]
  },
  {
   "cell_type": "code",
   "execution_count": 8,
   "id": "44b4d46e",
   "metadata": {
    "scrolled": true
   },
   "outputs": [
    {
     "name": "stdout",
     "output_type": "stream",
     "text": [
      "File :  Additives and Oxygenates\n",
      "File :  Biogases\n",
      "File :  Brown coal\n",
      "File :  Conventional crude oil\n",
      "File :  Hard coal\n",
      "File :  Heat\n",
      "File :  Industrial Waste\n",
      "File :  Municipal Wastes\n",
      "File :  Natural Gas (including LNG)\n",
      "File :  Natural Gas Liquid\n",
      "File :  Oil Shale and Oil Sands\n",
      "File :  Other hydrocarbons\n",
      "File :  Peat\n",
      "File :  Peat Products\n",
      "File :  Refinery Feedstocks\n",
      "File :  Coal products\n",
      "File :  Oil products\n",
      "File :  Solid biofuels\n",
      "File :  Liquid biofuels\n"
     ]
    }
   ],
   "source": [
    "files_data = [\n",
    "'Additives and Oxygenates',\n",
    "'Biogases',\n",
    "'Brown coal',\n",
    "'Conventional crude oil',\n",
    "'Hard coal',\n",
    "'Heat',\n",
    "'Industrial Waste',\n",
    "'Municipal Wastes',\n",
    "'Natural Gas (including LNG)',\n",
    "'Natural Gas Liquid',\n",
    "'Oil Shale and Oil Sands',\n",
    "'Other hydrocarbons',\n",
    "'Peat',\n",
    "'Peat Products',\n",
    "'Refinery Feedstocks',\n",
    "'Coal products',\n",
    "'Oil products',\n",
    "'Solid biofuels',\n",
    "'Liquid biofuels'\n",
    "]\n",
    "\n",
    "for file in files_data:\n",
    "    print('File : ', file)\n",
    "    Data_dict = append_new_energy(file, Data_dict)"
   ]
  },
  {
   "cell_type": "code",
   "execution_count": 9,
   "id": "1dd2a269",
   "metadata": {},
   "outputs": [],
   "source": [
    "for key in Data_dict.keys():\n",
    "    Data_dict[key].to_csv('By_country/' + key + '.csv')"
   ]
  }
 ],
 "metadata": {
  "kernelspec": {
   "display_name": "Python 3 (ipykernel)",
   "language": "python",
   "name": "python3"
  },
  "language_info": {
   "codemirror_mode": {
    "name": "ipython",
    "version": 3
   },
   "file_extension": ".py",
   "mimetype": "text/x-python",
   "name": "python",
   "nbconvert_exporter": "python",
   "pygments_lexer": "ipython3",
   "version": "3.8.8"
  }
 },
 "nbformat": 4,
 "nbformat_minor": 5
}
