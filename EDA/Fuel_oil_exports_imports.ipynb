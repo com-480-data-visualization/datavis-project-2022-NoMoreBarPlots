{
 "cells": [
  {
   "cell_type": "code",
   "execution_count": 1,
   "id": "b8d10660",
   "metadata": {},
   "outputs": [],
   "source": [
    "import numpy as np\n",
    "import pandas as pd\n",
    "import matplotlib.pyplot as plt\n",
    "\n",
    "PATH = 'Data_clean/'"
   ]
  },
  {
   "cell_type": "code",
   "execution_count": 2,
   "id": "36e4e712",
   "metadata": {},
   "outputs": [],
   "source": [
    "df = pd.read_csv(PATH + 'Fuel Oil.csv', usecols=['Country or Area', 'Transaction', 'Year', 'Quantity'])"
   ]
  },
  {
   "cell_type": "code",
   "execution_count": 3,
   "id": "e7054906",
   "metadata": {},
   "outputs": [
    {
     "data": {
      "text/html": [
       "<div>\n",
       "<style scoped>\n",
       "    .dataframe tbody tr th:only-of-type {\n",
       "        vertical-align: middle;\n",
       "    }\n",
       "\n",
       "    .dataframe tbody tr th {\n",
       "        vertical-align: top;\n",
       "    }\n",
       "\n",
       "    .dataframe thead th {\n",
       "        text-align: right;\n",
       "    }\n",
       "</style>\n",
       "<table border=\"1\" class=\"dataframe\">\n",
       "  <thead>\n",
       "    <tr style=\"text-align: right;\">\n",
       "      <th></th>\n",
       "      <th>Country or Area</th>\n",
       "      <th>Transaction</th>\n",
       "      <th>Year</th>\n",
       "      <th>Quantity</th>\n",
       "    </tr>\n",
       "  </thead>\n",
       "  <tbody>\n",
       "    <tr>\n",
       "      <th>0</th>\n",
       "      <td>Afghanistan</td>\n",
       "      <td>Production</td>\n",
       "      <td>2020</td>\n",
       "      <td>5.0</td>\n",
       "    </tr>\n",
       "    <tr>\n",
       "      <th>1</th>\n",
       "      <td>Afghanistan</td>\n",
       "      <td>Production</td>\n",
       "      <td>2019</td>\n",
       "      <td>12.0</td>\n",
       "    </tr>\n",
       "    <tr>\n",
       "      <th>2</th>\n",
       "      <td>Afghanistan</td>\n",
       "      <td>Production</td>\n",
       "      <td>2018</td>\n",
       "      <td>20.0</td>\n",
       "    </tr>\n",
       "    <tr>\n",
       "      <th>3</th>\n",
       "      <td>Afghanistan</td>\n",
       "      <td>Production</td>\n",
       "      <td>2017</td>\n",
       "      <td>12.0</td>\n",
       "    </tr>\n",
       "    <tr>\n",
       "      <th>4</th>\n",
       "      <td>Afghanistan</td>\n",
       "      <td>Production</td>\n",
       "      <td>2016</td>\n",
       "      <td>10.0</td>\n",
       "    </tr>\n",
       "    <tr>\n",
       "      <th>...</th>\n",
       "      <td>...</td>\n",
       "      <td>...</td>\n",
       "      <td>...</td>\n",
       "      <td>...</td>\n",
       "    </tr>\n",
       "    <tr>\n",
       "      <th>97520</th>\n",
       "      <td>Zambia</td>\n",
       "      <td>Final consumption</td>\n",
       "      <td>1994</td>\n",
       "      <td>90.0</td>\n",
       "    </tr>\n",
       "    <tr>\n",
       "      <th>97521</th>\n",
       "      <td>Zambia</td>\n",
       "      <td>Final consumption</td>\n",
       "      <td>1993</td>\n",
       "      <td>93.0</td>\n",
       "    </tr>\n",
       "    <tr>\n",
       "      <th>97522</th>\n",
       "      <td>Zambia</td>\n",
       "      <td>Final consumption</td>\n",
       "      <td>1992</td>\n",
       "      <td>92.0</td>\n",
       "    </tr>\n",
       "    <tr>\n",
       "      <th>97523</th>\n",
       "      <td>Zambia</td>\n",
       "      <td>Final consumption</td>\n",
       "      <td>1991</td>\n",
       "      <td>92.0</td>\n",
       "    </tr>\n",
       "    <tr>\n",
       "      <th>97524</th>\n",
       "      <td>Zambia</td>\n",
       "      <td>Final consumption</td>\n",
       "      <td>1990</td>\n",
       "      <td>90.0</td>\n",
       "    </tr>\n",
       "  </tbody>\n",
       "</table>\n",
       "<p>97525 rows × 4 columns</p>\n",
       "</div>"
      ],
      "text/plain": [
       "      Country or Area        Transaction  Year  Quantity\n",
       "0         Afghanistan         Production  2020       5.0\n",
       "1         Afghanistan         Production  2019      12.0\n",
       "2         Afghanistan         Production  2018      20.0\n",
       "3         Afghanistan         Production  2017      12.0\n",
       "4         Afghanistan         Production  2016      10.0\n",
       "...               ...                ...   ...       ...\n",
       "97520          Zambia  Final consumption  1994      90.0\n",
       "97521          Zambia  Final consumption  1993      93.0\n",
       "97522          Zambia  Final consumption  1992      92.0\n",
       "97523          Zambia  Final consumption  1991      92.0\n",
       "97524          Zambia  Final consumption  1990      90.0\n",
       "\n",
       "[97525 rows x 4 columns]"
      ]
     },
     "execution_count": 3,
     "metadata": {},
     "output_type": "execute_result"
    }
   ],
   "source": [
    "df"
   ]
  },
  {
   "cell_type": "code",
   "execution_count": 4,
   "id": "de0c5ce3",
   "metadata": {},
   "outputs": [
    {
     "data": {
      "text/plain": [
       "210"
      ]
     },
     "execution_count": 4,
     "metadata": {},
     "output_type": "execute_result"
    }
   ],
   "source": [
    "len(df['Country or Area'].unique())"
   ]
  },
  {
   "cell_type": "code",
   "execution_count": 5,
   "id": "746744e7",
   "metadata": {},
   "outputs": [],
   "source": [
    "df_imports = df[df['Transaction'] == 'Imports']\n",
    "df_exports = df[df['Transaction'] == 'Exports']"
   ]
  },
  {
   "cell_type": "markdown",
   "id": "a4c7b5b9",
   "metadata": {},
   "source": [
    "# Stats"
   ]
  },
  {
   "cell_type": "code",
   "execution_count": 6,
   "id": "b8756634",
   "metadata": {},
   "outputs": [
    {
     "data": {
      "text/plain": [
       "count     5072.000000\n",
       "mean      1232.075300\n",
       "std       4611.720864\n",
       "min          0.000000\n",
       "25%         15.780750\n",
       "50%        102.430000\n",
       "75%        685.829750\n",
       "max      76356.200000\n",
       "Name: Quantity, dtype: float64"
      ]
     },
     "execution_count": 6,
     "metadata": {},
     "output_type": "execute_result"
    }
   ],
   "source": [
    "df_imports['Quantity'].describe()"
   ]
  },
  {
   "cell_type": "code",
   "execution_count": 7,
   "id": "ca6e5f71",
   "metadata": {},
   "outputs": [
    {
     "data": {
      "text/plain": [
       "count     3199.000000\n",
       "mean      2329.173653\n",
       "std       5320.629334\n",
       "min          0.000000\n",
       "25%         78.500000\n",
       "50%        560.000000\n",
       "75%       2455.629000\n",
       "max      63102.000000\n",
       "Name: Quantity, dtype: float64"
      ]
     },
     "execution_count": 7,
     "metadata": {},
     "output_type": "execute_result"
    }
   ],
   "source": [
    "df_exports['Quantity'].describe()"
   ]
  },
  {
   "cell_type": "code",
   "execution_count": 8,
   "id": "44716afd",
   "metadata": {},
   "outputs": [
    {
     "data": {
      "text/plain": [
       "<matplotlib.legend.Legend at 0x7f8f170e8d60>"
      ]
     },
     "execution_count": 8,
     "metadata": {},
     "output_type": "execute_result"
    },
    {
     "data": {
      "image/png": "[encoded data removed]",
      "text/plain": [
       "<Figure size 432x288 with 1 Axes>"
      ]
     },
     "metadata": {
      "needs_background": "light"
     },
     "output_type": "display_data"
    }
   ],
   "source": [
    "plt.plot(df_exports.groupby('Year').sum(), label = 'Exports')\n",
    "plt.plot(df_imports.groupby('Year').sum(), label = 'Imports')\n",
    "plt.title('Fuel oil exports and imports per year (sum over all countries)')\n",
    "plt.legend()"
   ]
  },
  {
   "cell_type": "markdown",
   "id": "e59b9b8d",
   "metadata": {},
   "source": [
    "# Error between imports and exports for all countries"
   ]
  },
  {
   "cell_type": "code",
   "execution_count": 9,
   "id": "1f69d50e",
   "metadata": {},
   "outputs": [
    {
     "name": "stderr",
     "output_type": "stream",
     "text": [
      "No artists with labels found to put in legend.  Note that artists whose label start with an underscore are ignored when legend() is called with no argument.\n"
     ]
    },
    {
     "data": {
      "text/plain": [
       "<matplotlib.legend.Legend at 0x7f8f14824c10>"
      ]
     },
     "execution_count": 9,
     "metadata": {},
     "output_type": "execute_result"
    },
    {
     "data": {
      "image/png": "[encoded data removed]",
      "text/plain": [
       "<Figure size 432x288 with 1 Axes>"
      ]
     },
     "metadata": {
      "needs_background": "light"
     },
     "output_type": "display_data"
    }
   ],
   "source": [
    "plt.plot(df_imports.groupby('Year').sum() - df_exports.groupby('Year').sum())\n",
    "plt.title('Fuel oil exports and imports difference (sum over all countries)')\n",
    "plt.legend()"
   ]
  },
  {
   "cell_type": "code",
   "execution_count": 11,
   "id": "b71bb9cc",
   "metadata": {},
   "outputs": [
    {
     "data": {
      "text/html": [
       "<div>\n",
       "<style scoped>\n",
       "    .dataframe tbody tr th:only-of-type {\n",
       "        vertical-align: middle;\n",
       "    }\n",
       "\n",
       "    .dataframe tbody tr th {\n",
       "        vertical-align: top;\n",
       "    }\n",
       "\n",
       "    .dataframe thead th {\n",
       "        text-align: right;\n",
       "    }\n",
       "</style>\n",
       "<table border=\"1\" class=\"dataframe\">\n",
       "  <thead>\n",
       "    <tr style=\"text-align: right;\">\n",
       "      <th></th>\n",
       "      <th>Quantity</th>\n",
       "    </tr>\n",
       "  </thead>\n",
       "  <tbody>\n",
       "    <tr>\n",
       "      <th>count</th>\n",
       "      <td>31.000000</td>\n",
       "    </tr>\n",
       "    <tr>\n",
       "      <th>mean</th>\n",
       "      <td>-38772.277293</td>\n",
       "    </tr>\n",
       "    <tr>\n",
       "      <th>std</th>\n",
       "      <td>15351.678863</td>\n",
       "    </tr>\n",
       "    <tr>\n",
       "      <th>min</th>\n",
       "      <td>-57386.587633</td>\n",
       "    </tr>\n",
       "    <tr>\n",
       "      <th>25%</th>\n",
       "      <td>-48014.573558</td>\n",
       "    </tr>\n",
       "    <tr>\n",
       "      <th>50%</th>\n",
       "      <td>-41388.644162</td>\n",
       "    </tr>\n",
       "    <tr>\n",
       "      <th>75%</th>\n",
       "      <td>-30848.570409</td>\n",
       "    </tr>\n",
       "    <tr>\n",
       "      <th>max</th>\n",
       "      <td>25961.314243</td>\n",
       "    </tr>\n",
       "  </tbody>\n",
       "</table>\n",
       "</div>"
      ],
      "text/plain": [
       "           Quantity\n",
       "count     31.000000\n",
       "mean  -38772.277293\n",
       "std    15351.678863\n",
       "min   -57386.587633\n",
       "25%   -48014.573558\n",
       "50%   -41388.644162\n",
       "75%   -30848.570409\n",
       "max    25961.314243"
      ]
     },
     "execution_count": 11,
     "metadata": {},
     "output_type": "execute_result"
    }
   ],
   "source": [
    "(df_imports.groupby('Year').sum() - df_exports.groupby('Year').sum()).describe()"
   ]
  },
  {
   "cell_type": "code",
   "execution_count": 12,
   "id": "021371f3",
   "metadata": {},
   "outputs": [
    {
     "data": {
      "text/plain": [
       "Quantity   -1.201941e+06\n",
       "dtype: float64"
      ]
     },
     "execution_count": 12,
     "metadata": {},
     "output_type": "execute_result"
    }
   ],
   "source": [
    "(df_imports.groupby('Year').sum() - df_exports.groupby('Year').sum()).sum()"
   ]
  },
  {
   "cell_type": "markdown",
   "id": "2485d855",
   "metadata": {},
   "source": [
    "# Max im/export quantity and year by country"
   ]
  },
  {
   "cell_type": "code",
   "execution_count": 13,
   "id": "84e7806a",
   "metadata": {},
   "outputs": [
    {
     "data": {
      "text/html": [
       "<div>\n",
       "<style scoped>\n",
       "    .dataframe tbody tr th:only-of-type {\n",
       "        vertical-align: middle;\n",
       "    }\n",
       "\n",
       "    .dataframe tbody tr th {\n",
       "        vertical-align: top;\n",
       "    }\n",
       "\n",
       "    .dataframe thead th {\n",
       "        text-align: right;\n",
       "    }\n",
       "</style>\n",
       "<table border=\"1\" class=\"dataframe\">\n",
       "  <thead>\n",
       "    <tr style=\"text-align: right;\">\n",
       "      <th></th>\n",
       "      <th>Transaction</th>\n",
       "      <th>Year</th>\n",
       "      <th>Quantity</th>\n",
       "    </tr>\n",
       "    <tr>\n",
       "      <th>Country or Area</th>\n",
       "      <th></th>\n",
       "      <th></th>\n",
       "      <th></th>\n",
       "    </tr>\n",
       "  </thead>\n",
       "  <tbody>\n",
       "    <tr>\n",
       "      <th>Afghanistan</th>\n",
       "      <td>Imports</td>\n",
       "      <td>2019</td>\n",
       "      <td>4.0</td>\n",
       "    </tr>\n",
       "    <tr>\n",
       "      <th>Albania</th>\n",
       "      <td>Imports</td>\n",
       "      <td>2020</td>\n",
       "      <td>61.0</td>\n",
       "    </tr>\n",
       "    <tr>\n",
       "      <th>Algeria</th>\n",
       "      <td>Imports</td>\n",
       "      <td>2019</td>\n",
       "      <td>269.0</td>\n",
       "    </tr>\n",
       "    <tr>\n",
       "      <th>American Samoa</th>\n",
       "      <td>Imports</td>\n",
       "      <td>2019</td>\n",
       "      <td>0.1</td>\n",
       "    </tr>\n",
       "    <tr>\n",
       "      <th>Angola</th>\n",
       "      <td>Imports</td>\n",
       "      <td>2016</td>\n",
       "      <td>25.0</td>\n",
       "    </tr>\n",
       "    <tr>\n",
       "      <th>...</th>\n",
       "      <td>...</td>\n",
       "      <td>...</td>\n",
       "      <td>...</td>\n",
       "    </tr>\n",
       "    <tr>\n",
       "      <th>Yemen</th>\n",
       "      <td>Imports</td>\n",
       "      <td>2019</td>\n",
       "      <td>1368.0</td>\n",
       "    </tr>\n",
       "    <tr>\n",
       "      <th>Yemen Arab Rep. (former)</th>\n",
       "      <td>Imports</td>\n",
       "      <td>1990</td>\n",
       "      <td>18.0</td>\n",
       "    </tr>\n",
       "    <tr>\n",
       "      <th>Yemen, Dem. (former)</th>\n",
       "      <td>Imports</td>\n",
       "      <td>1990</td>\n",
       "      <td>0.0</td>\n",
       "    </tr>\n",
       "    <tr>\n",
       "      <th>Yugoslavia, SFR (former)</th>\n",
       "      <td>Imports</td>\n",
       "      <td>1991</td>\n",
       "      <td>755.0</td>\n",
       "    </tr>\n",
       "    <tr>\n",
       "      <th>Zambia</th>\n",
       "      <td>Imports</td>\n",
       "      <td>2016</td>\n",
       "      <td>52.0</td>\n",
       "    </tr>\n",
       "  </tbody>\n",
       "</table>\n",
       "<p>200 rows × 3 columns</p>\n",
       "</div>"
      ],
      "text/plain": [
       "                         Transaction  Year  Quantity\n",
       "Country or Area                                     \n",
       "Afghanistan                  Imports  2019       4.0\n",
       "Albania                      Imports  2020      61.0\n",
       "Algeria                      Imports  2019     269.0\n",
       "American Samoa               Imports  2019       0.1\n",
       "Angola                       Imports  2016      25.0\n",
       "...                              ...   ...       ...\n",
       "Yemen                        Imports  2019    1368.0\n",
       "Yemen Arab Rep. (former)     Imports  1990      18.0\n",
       "Yemen, Dem. (former)         Imports  1990       0.0\n",
       "Yugoslavia, SFR (former)     Imports  1991     755.0\n",
       "Zambia                       Imports  2016      52.0\n",
       "\n",
       "[200 rows x 3 columns]"
      ]
     },
     "execution_count": 13,
     "metadata": {},
     "output_type": "execute_result"
    }
   ],
   "source": [
    "df_imports.groupby('Country or Area').max()"
   ]
  },
  {
   "cell_type": "code",
   "execution_count": 14,
   "id": "25f50bd7",
   "metadata": {},
   "outputs": [
    {
     "data": {
      "text/html": [
       "<div>\n",
       "<style scoped>\n",
       "    .dataframe tbody tr th:only-of-type {\n",
       "        vertical-align: middle;\n",
       "    }\n",
       "\n",
       "    .dataframe tbody tr th {\n",
       "        vertical-align: top;\n",
       "    }\n",
       "\n",
       "    .dataframe thead th {\n",
       "        text-align: right;\n",
       "    }\n",
       "</style>\n",
       "<table border=\"1\" class=\"dataframe\">\n",
       "  <thead>\n",
       "    <tr style=\"text-align: right;\">\n",
       "      <th></th>\n",
       "      <th>Transaction</th>\n",
       "      <th>Year</th>\n",
       "      <th>Quantity</th>\n",
       "    </tr>\n",
       "    <tr>\n",
       "      <th>Country or Area</th>\n",
       "      <th></th>\n",
       "      <th></th>\n",
       "      <th></th>\n",
       "    </tr>\n",
       "  </thead>\n",
       "  <tbody>\n",
       "    <tr>\n",
       "      <th>Albania</th>\n",
       "      <td>Exports</td>\n",
       "      <td>1995</td>\n",
       "      <td>60.000000</td>\n",
       "    </tr>\n",
       "    <tr>\n",
       "      <th>Algeria</th>\n",
       "      <td>Exports</td>\n",
       "      <td>2019</td>\n",
       "      <td>6940.000000</td>\n",
       "    </tr>\n",
       "    <tr>\n",
       "      <th>Angola</th>\n",
       "      <td>Exports</td>\n",
       "      <td>2019</td>\n",
       "      <td>632.000000</td>\n",
       "    </tr>\n",
       "    <tr>\n",
       "      <th>Argentina</th>\n",
       "      <td>Exports</td>\n",
       "      <td>2020</td>\n",
       "      <td>1521.000000</td>\n",
       "    </tr>\n",
       "    <tr>\n",
       "      <th>Armenia</th>\n",
       "      <td>Exports</td>\n",
       "      <td>2020</td>\n",
       "      <td>0.051681</td>\n",
       "    </tr>\n",
       "    <tr>\n",
       "      <th>...</th>\n",
       "      <td>...</td>\n",
       "      <td>...</td>\n",
       "      <td>...</td>\n",
       "    </tr>\n",
       "    <tr>\n",
       "      <th>Viet Nam</th>\n",
       "      <td>Exports</td>\n",
       "      <td>2020</td>\n",
       "      <td>400.000000</td>\n",
       "    </tr>\n",
       "    <tr>\n",
       "      <th>Yemen</th>\n",
       "      <td>Exports</td>\n",
       "      <td>2016</td>\n",
       "      <td>826.000000</td>\n",
       "    </tr>\n",
       "    <tr>\n",
       "      <th>Yemen, Dem. (former)</th>\n",
       "      <td>Exports</td>\n",
       "      <td>1990</td>\n",
       "      <td>800.000000</td>\n",
       "    </tr>\n",
       "    <tr>\n",
       "      <th>Yugoslavia, SFR (former)</th>\n",
       "      <td>Exports</td>\n",
       "      <td>1991</td>\n",
       "      <td>125.000000</td>\n",
       "    </tr>\n",
       "    <tr>\n",
       "      <th>Zambia</th>\n",
       "      <td>Exports</td>\n",
       "      <td>2016</td>\n",
       "      <td>32.000000</td>\n",
       "    </tr>\n",
       "  </tbody>\n",
       "</table>\n",
       "<p>138 rows × 3 columns</p>\n",
       "</div>"
      ],
      "text/plain": [
       "                         Transaction  Year     Quantity\n",
       "Country or Area                                        \n",
       "Albania                      Exports  1995    60.000000\n",
       "Algeria                      Exports  2019  6940.000000\n",
       "Angola                       Exports  2019   632.000000\n",
       "Argentina                    Exports  2020  1521.000000\n",
       "Armenia                      Exports  2020     0.051681\n",
       "...                              ...   ...          ...\n",
       "Viet Nam                     Exports  2020   400.000000\n",
       "Yemen                        Exports  2016   826.000000\n",
       "Yemen, Dem. (former)         Exports  1990   800.000000\n",
       "Yugoslavia, SFR (former)     Exports  1991   125.000000\n",
       "Zambia                       Exports  2016    32.000000\n",
       "\n",
       "[138 rows x 3 columns]"
      ]
     },
     "execution_count": 14,
     "metadata": {},
     "output_type": "execute_result"
    }
   ],
   "source": [
    "df_exports.groupby('Country or Area').max()"
   ]
  },
  {
   "cell_type": "markdown",
   "id": "567927f1",
   "metadata": {},
   "source": [
    "# For Switzerland"
   ]
  },
  {
   "cell_type": "code",
   "execution_count": 11,
   "id": "42778b84",
   "metadata": {},
   "outputs": [
    {
     "data": {
      "text/plain": [
       "[<matplotlib.lines.Line2D at 0x7f8f17988880>]"
      ]
     },
     "execution_count": 11,
     "metadata": {},
     "output_type": "execute_result"
    },
    {
     "data": {
      "image/png": "[encoded data removed]",
      "text/plain": [
       "<Figure size 432x288 with 1 Axes>"
      ]
     },
     "metadata": {
      "needs_background": "light"
     },
     "output_type": "display_data"
    }
   ],
   "source": [
    "df_imports_Switz = df_imports[df_imports['Country or Area'] == 'Switzerland']\n",
    "plt.plot(df_imports_Switz['Year'], df_imports_Switz['Quantity'])"
   ]
  },
  {
   "cell_type": "code",
   "execution_count": 14,
   "id": "747892fc",
   "metadata": {},
   "outputs": [
    {
     "data": {
      "text/plain": [
       "Text(0.5, 1.0, 'Fuel oil exports and imports per year for Switzerland')"
      ]
     },
     "execution_count": 14,
     "metadata": {},
     "output_type": "execute_result"
    },
    {
     "data": {
      "image/png": "[encoded data removed]",
      "text/plain": [
       "<Figure size 432x288 with 1 Axes>"
      ]
     },
     "metadata": {
      "needs_background": "light"
     },
     "output_type": "display_data"
    }
   ],
   "source": [
    "df_exports_Switz = df_exports[df_exports['Country or Area'] == 'Switzerland']\n",
    "plt.plot(df_exports_Switz['Year'], df_exports_Switz['Quantity'], label = 'Exports')\n",
    "plt.plot(df_imports_Switz['Year'], df_imports_Switz['Quantity'], label = 'Imports')\n",
    "plt.legend()\n",
    "plt.title('Fuel oil exports and imports per year for Switzerland')"
   ]
  },
  {
   "cell_type": "markdown",
   "id": "1ba454b6",
   "metadata": {},
   "source": [
    "# Minimum year data available per country"
   ]
  },
  {
   "cell_type": "code",
   "execution_count": 17,
   "id": "41b71fdf",
   "metadata": {},
   "outputs": [
    {
     "data": {
      "text/plain": [
       "Country or Area\n",
       "Albania                     1990\n",
       "Algeria                     1990\n",
       "Angola                      1990\n",
       "Argentina                   1990\n",
       "Armenia                     2020\n",
       "                            ... \n",
       "Viet Nam                    1995\n",
       "Yemen                       1991\n",
       "Yemen, Dem. (former)        1990\n",
       "Yugoslavia, SFR (former)    1990\n",
       "Zambia                      2009\n",
       "Name: Year, Length: 138, dtype: int64"
      ]
     },
     "execution_count": 17,
     "metadata": {},
     "output_type": "execute_result"
    }
   ],
   "source": [
    "df_exports.groupby('Country or Area')['Year'].min()"
   ]
  },
  {
   "cell_type": "code",
   "execution_count": 18,
   "id": "6827cbd1",
   "metadata": {},
   "outputs": [
    {
     "data": {
      "text/plain": [
       "count     138.000000\n",
       "mean     1991.956522\n",
       "std         5.110272\n",
       "min      1990.000000\n",
       "25%      1990.000000\n",
       "50%      1990.000000\n",
       "75%      1991.750000\n",
       "max      2020.000000\n",
       "Name: Year, dtype: float64"
      ]
     },
     "execution_count": 18,
     "metadata": {},
     "output_type": "execute_result"
    }
   ],
   "source": [
    "df_exports.groupby('Country or Area')['Year'].min().describe()"
   ]
  },
  {
   "cell_type": "code",
   "execution_count": 19,
   "id": "0133039b",
   "metadata": {},
   "outputs": [
    {
     "data": {
      "text/plain": [
       "Country or Area\n",
       "Afghanistan                 1990\n",
       "Albania                     1990\n",
       "Algeria                     1990\n",
       "American Samoa              2011\n",
       "Angola                      1990\n",
       "                            ... \n",
       "Yemen                       1993\n",
       "Yemen Arab Rep. (former)    1990\n",
       "Yemen, Dem. (former)        1990\n",
       "Yugoslavia, SFR (former)    1990\n",
       "Zambia                      1995\n",
       "Name: Year, Length: 200, dtype: int64"
      ]
     },
     "execution_count": 19,
     "metadata": {},
     "output_type": "execute_result"
    }
   ],
   "source": [
    "df_imports.groupby('Country or Area')['Year'].min()"
   ]
  },
  {
   "cell_type": "code",
   "execution_count": 20,
   "id": "0daeb6d1",
   "metadata": {},
   "outputs": [
    {
     "data": {
      "text/plain": [
       "count     200.000000\n",
       "mean     1991.935000\n",
       "std         4.929735\n",
       "min      1990.000000\n",
       "25%      1990.000000\n",
       "50%      1990.000000\n",
       "75%      1992.000000\n",
       "max      2012.000000\n",
       "Name: Year, dtype: float64"
      ]
     },
     "execution_count": 20,
     "metadata": {},
     "output_type": "execute_result"
    }
   ],
   "source": [
    "df_imports.groupby('Country or Area')['Year'].min().describe()"
   ]
  },
  {
   "cell_type": "code",
   "execution_count": 24,
   "id": "ee768365",
   "metadata": {},
   "outputs": [
    {
     "data": {
      "text/plain": [
       "count    200.000000\n",
       "mean      25.360000\n",
       "std        9.383531\n",
       "min        1.000000\n",
       "25%       24.750000\n",
       "50%       30.000000\n",
       "75%       31.000000\n",
       "max       48.000000\n",
       "Name: Year, dtype: float64"
      ]
     },
     "execution_count": 24,
     "metadata": {},
     "output_type": "execute_result"
    }
   ],
   "source": [
    "df_imports.groupby('Country or Area')['Year'].count().describe()"
   ]
  },
  {
   "cell_type": "code",
   "execution_count": 42,
   "id": "a0d77aa9",
   "metadata": {},
   "outputs": [
    {
     "data": {
      "text/plain": [
       "Country or Area\n",
       "Afghanistan                 False\n",
       "Albania                     False\n",
       "Algeria                     False\n",
       "American Samoa              False\n",
       "Angola                      False\n",
       "                            ...  \n",
       "Yemen                       False\n",
       "Yemen Arab Rep. (former)    False\n",
       "Yemen, Dem. (former)        False\n",
       "Yugoslavia, SFR (former)    False\n",
       "Zambia                      False\n",
       "Length: 200, dtype: bool"
      ]
     },
     "execution_count": 42,
     "metadata": {},
     "output_type": "execute_result"
    }
   ],
   "source": [
    "pd.DataFrame(df_imports.groupby('Country or Area')['Year'].count() == 48)"
   ]
  },
  {
   "cell_type": "code",
   "execution_count": null,
   "id": "6466bbdb",
   "metadata": {},
   "outputs": [],
   "source": [
    "df_imports.loc[:,df.any()]"
   ]
  }
 ],
 "metadata": {
  "kernelspec": {
   "display_name": "Python 3 (ipykernel)",
   "language": "python",
   "name": "python3"
  },
  "language_info": {
   "codemirror_mode": {
    "name": "ipython",
    "version": 3
   },
   "file_extension": ".py",
   "mimetype": "text/x-python",
   "name": "python",
   "nbconvert_exporter": "python",
   "pygments_lexer": "ipython3",
   "version": "3.8.8"
  }
 },
 "nbformat": 4,
 "nbformat_minor": 5
}
